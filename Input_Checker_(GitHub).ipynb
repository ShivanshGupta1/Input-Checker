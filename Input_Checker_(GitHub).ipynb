{
  "nbformat": 4,
  "nbformat_minor": 0,
  "metadata": {
    "colab": {
      "name": "Input Checker (GitHub).ipynb",
      "provenance": [],
      "authorship_tag": "ABX9TyMacelm66OdOCv6f93wNVkx",
      "include_colab_link": true
    },
    "kernelspec": {
      "name": "python3",
      "display_name": "Python 3"
    }
  },
  "cells": [
    {
      "cell_type": "markdown",
      "metadata": {
        "id": "view-in-github",
        "colab_type": "text"
      },
      "source": [
        "<a href=\"https://colab.research.google.com/github/ShivanshGupta1/Input-Checker/blob/main/Input_Checker_(GitHub).ipynb\" target=\"_parent\"><img src=\"https://colab.research.google.com/assets/colab-badge.svg\" alt=\"Open In Colab\"/></a>"
      ]
    },
    {
      "cell_type": "code",
      "metadata": {
        "id": "zd-zwHWrsqNp"
      },
      "source": [
        "#Input checker\n",
        "song = \"she loves you yeah yeah yeah she loves you yeah yeah yeah she loves you yeah yeah yeah you think you’ve lost your love well i saw her yesterday-yi-yay it’s you she’s thinking of and she told me what to say-yi-yay she says she loves you and you know that can’t be bad yes she loves you and you know you should be glad\" #This is the song\n",
        "song = song.split() #This is converting the string to a list\n",
        "songDictionary = {} #This is the empty dictionary\n",
        "def work(songDictionary,song): #This is the function for the program\n",
        "  for i in song: #This for loop checks for every element (eg. - \"yeah\"), in the list...\n",
        "    if i in songDictionary:#If that element is already there in the dictionary...\n",
        "      songDictionary[i]=songDictionary[i]+1 #Then add 1 more to it\n",
        "    else:#Else initialize the value to 1\n",
        "      songDictionary[i]=1\n",
        "  return songDictionary#In the end, when the for loop is over, it will return us the dictionary\n",
        "newsongDictionary = work(songDictionary,song);#This is a new dictionary with the old dictionary\n",
        "userDictionary = {}\n",
        "userInput = int(input(\"What value do you seek?\"))\n",
        "def inputTeller():#This is the function to check the keys with the value as the userinput \n",
        "  for i in newsongDictionary:#This for loop checks for every element (eg. - \"yeah\"), in the dictionary...\n",
        "    if newsongDictionary[i]==userInput:#If that element's value is equal to our input's value, then...\n",
        "      userDictionary[i]=userInput#Add that key and value to this userDictionary\n",
        "  if len(userDictionary)!=0: #In the end check if the yuserDictionary has a length greater then 0...\n",
        "    print(\"The data with that key and value are - \",userDictionary) #Then print that dictionary\n",
        "  else: #Else..\n",
        "    print(\"There is no key with that value\") #This means there are/is no key/s with that value\n",
        "inputTeller();#This calls the function"
      ],
      "execution_count": null,
      "outputs": []
    }
  ]
}